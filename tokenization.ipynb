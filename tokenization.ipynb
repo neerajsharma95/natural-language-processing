{
 "cells": [
  {
   "cell_type": "code",
   "execution_count": 1,
   "metadata": {},
   "outputs": [],
   "source": [
    "paragraph='''I have three visions for India.\n",
    "\n",
    "In 3000 years of our history, people from allover the world have come and invaded us, captured our lands, conquered our minds. From Alexander onwards. The Greeks, the Portuguese, the British, the French, the Dutch, all of them came and looted us, took over what was ours. Yet we have not done this to any other nation. We have not conquered anyone. We have not grabbed their land, their culture, their history tried to enforce our way of life on them. Why? Because we respect the freedom of others.\n",
    "\n",
    "That is why my first vision is that of FREEDOM.\n",
    "\n",
    "I believe that India got its first vision of this in 1857, when we started the war of independence. It is this freedom that we must protect and nurture and built on. If we are not free, no one will respect us.\n",
    "\n",
    "My second vision for India is DEVELOPMENT.\n",
    "\n",
    "For fifty years we have been a developing nation. It is time we see ourselves as a developed nation. We are among top 5 nations of the world in terms of GDP. We have 10 percent growth rate in most areas. Our poverty levels are falling, our achievements are being globally recognized today. Yet we lack the self-confidence to see ourselves as a developed nation, self reliant and self assured. Isn't this right?\n",
    "\n",
    "I have a third vision. The India must stand up to the world. Because I believe that unless India stands up to the world, no one will respect us. Only strength respects strength. We must be strong not only as a military power but also as an economic power. Both must go hand-in-hand.\n",
    "\n",
    "My good fortune was to have work with three great minds. Dr Vikram Sarabhai of the Dept. of space, Professor Satish Dhawan, who succeeded him, and Dr.Brahm Prakash, father of nuclear material. I was lucky to have worked with all three of them closely and consider this the great opportunity of my life.\n",
    "\n",
    "I see four milestones in my career:\n",
    "\n",
    "ONE: Twenty years I spent in ISRO. I was given the opportunity to be the project director for India's first satellite launch vehicle, SLV3. The one that launched Rohini. These years played a very important role in my life of Scientist.\n",
    "\n",
    "TWO: After my ISRO years, I joined DRDO and got a chance to be the part of India's guided missile program. It was my second bliss when Agni met its mission requirements in 1994.\n",
    "\n",
    "THREE: The Dept. of Atomic Energy and DRDO had this tremendous partnership in the recent nuclear tests, on May 11 and 13. This was the third bliss. The joy of participating with my team in these nuclear tests and proving to the world that India can make it.That we are no longer a developing nation but one of them. It made me feel very proud as an Indian. The fact that we have now developed for Agni a re-entry structure, for which we have developed this new material. A Very light material called carbon-carbon.\n",
    "\n",
    "FOUR: One day an orthopaedic surgeon from Nizam institute of Medical Sciences visited my laboratory. He lifted the material and found it so light that he took me to his hospital and showed me his patients. There were these little girls and boys with heavy metallic calipers weighing over three Kgs. each, dragging their feet around. He said to me: Please remove the pain of my patients. In three weeks, we made these Floor reaction Orthosis 300 gram calipers and took them to the orthopaedic center. The children didn't believe their eyes. From dragging around a three kg. load on their legs, they could now move around! Their parents had tears in their eyes. That was my forth bliss!\n",
    "\n",
    "Why is the media here so negative? Why are we in India so embarrassed to recognize our own strengths, our achievements? We are such a great nation. We have so many amazing success stories but we refuse to acknowledge them. Why? We are the second largest producer of wheat in the world. We are the second largest producers in rice. We are the first in milk production. We are number one in Remote sensing satellites. Look at Dr. Sudarshan, he has transferred the tribal village into a self-sustaining, self-driving unit. There are millions of such achievements but our media is only obsessed with the bad news and failures and disasters. I was in Tel Aviv once and I was reading the Israeli newspaper. It was the day after a lot of attacks and bombardments and deaths had taken place. The Hamas had struck. But the front page of the newspaper had the picture of a Jewish gentleman who in five years had transformed his desert land into an orchid and a granary. It was this inspiring picture that everyone woke up to. The gory details of killings, bombardments, deaths, were inside in the newspaper, buried among other news. In India we only read about death, sickness, terrorism, crime. Why are we so negative?\n",
    "\n",
    "Another question: Why are we, as a nation so obsessed with foreign things? we want foreign TVs, we want foreign shirts. We want foreign technology. Why this obsession with everything imported? Do we not realize that self-respect comes with self-reliance?\n",
    "\n",
    "I was in Hyderabad giving this lecture, when a 14 year oldgirl asked me for my autograph. I asked her what her goal in life is: She replied: \"I want to live in a developed India.\" For her, you, and I will have to build this developed India.\n",
    "\n",
    "'''"
   ]
  },
  {
   "cell_type": "code",
   "execution_count": 3,
   "metadata": {},
   "outputs": [
    {
     "name": "stdout",
     "output_type": "stream",
     "text": [
      "Collecting nltk\n",
      "  Downloading https://files.pythonhosted.org/packages/43/0b/8298798bc5a9a007b7cae3f846a3d9a325953e0f9c238affa478b4d59324/nltk-3.7-py3-none-any.whl (1.5MB)\n",
      "Collecting tqdm (from nltk)\n",
      "  Downloading https://files.pythonhosted.org/packages/47/bb/849011636c4da2e44f1253cd927cfb20ada4374d8b3a4e425416e84900cc/tqdm-4.64.1-py2.py3-none-any.whl (78kB)\n",
      "Collecting click (from nltk)\n",
      "  Downloading https://files.pythonhosted.org/packages/c2/f1/df59e28c642d583f7dacffb1e0965d0e00b218e0186d7858ac5233dce840/click-8.1.3-py3-none-any.whl (96kB)\n",
      "Collecting joblib (from nltk)\n",
      "  Downloading https://files.pythonhosted.org/packages/91/d4/3b4c8e5a30604df4c7518c562d4bf0502f2fa29221459226e140cf846512/joblib-1.2.0-py3-none-any.whl (297kB)\n",
      "Collecting regex>=2021.8.3 (from nltk)\n",
      "  Downloading https://files.pythonhosted.org/packages/01/b3/a01602507224e611caa3c0f2a4aa96f4c03fdce482fa4527de61678a3018/regex-2022.10.31-cp37-cp37m-win_amd64.whl (268kB)\n",
      "Requirement already satisfied: colorama; platform_system == \"Windows\" in c:\\users\\ns261\\appdata\\local\\programs\\python\\python37\\lib\\site-packages (from tqdm->nltk) (0.4.6)\n",
      "Requirement already satisfied: importlib-metadata; python_version < \"3.8\" in c:\\users\\ns261\\appdata\\local\\programs\\python\\python37\\lib\\site-packages (from click->nltk) (5.1.0)\n",
      "Requirement already satisfied: zipp>=0.5 in c:\\users\\ns261\\appdata\\local\\programs\\python\\python37\\lib\\site-packages (from importlib-metadata; python_version < \"3.8\"->click->nltk) (3.11.0)\n",
      "Requirement already satisfied: typing-extensions>=3.6.4; python_version < \"3.8\" in c:\\users\\ns261\\appdata\\local\\programs\\python\\python37\\lib\\site-packages (from importlib-metadata; python_version < \"3.8\"->click->nltk) (4.4.0)\n",
      "Installing collected packages: tqdm, click, joblib, regex, nltk\n",
      "Successfully installed click-8.1.3 joblib-1.2.0 nltk-3.7 regex-2022.10.31 tqdm-4.64.1\n"
     ]
    },
    {
     "name": "stderr",
     "output_type": "stream",
     "text": [
      "  The script tqdm.exe is installed in 'c:\\users\\ns261\\appdata\\local\\programs\\python\\python37\\Scripts' which is not on PATH.\n",
      "  Consider adding this directory to PATH or, if you prefer to suppress this warning, use --no-warn-script-location.\n",
      "  The script nltk.exe is installed in 'c:\\users\\ns261\\appdata\\local\\programs\\python\\python37\\Scripts' which is not on PATH.\n",
      "  Consider adding this directory to PATH or, if you prefer to suppress this warning, use --no-warn-script-location.\n",
      "You are using pip version 10.0.1, however version 22.3.1 is available.\n",
      "You should consider upgrading via the 'python -m pip install --upgrade pip' command.\n"
     ]
    }
   ],
   "source": [
    "!pip install nltk"
   ]
  },
  {
   "cell_type": "code",
   "execution_count": 4,
   "metadata": {},
   "outputs": [],
   "source": [
    "import nltk\n",
    "from nltk.tokenize import sent_tokenize\n",
    "sentences=sent_tokenize(paragraph)"
   ]
  },
  {
   "cell_type": "code",
   "execution_count": 5,
   "metadata": {},
   "outputs": [
    {
     "name": "stdout",
     "output_type": "stream",
     "text": [
      "I have three visions for India.\n",
      "In 3000 years of our history, people from allover the world have come and invaded us, captured our lands, conquered our minds.\n",
      "From Alexander onwards.\n",
      "The Greeks, the Portuguese, the British, the French, the Dutch, all of them came and looted us, took over what was ours.\n",
      "Yet we have not done this to any other nation.\n",
      "We have not conquered anyone.\n",
      "We have not grabbed their land, their culture, their history tried to enforce our way of life on them.\n",
      "Why?\n",
      "Because we respect the freedom of others.\n",
      "That is why my first vision is that of FREEDOM.\n",
      "I believe that India got its first vision of this in 1857, when we started the war of independence.\n",
      "It is this freedom that we must protect and nurture and built on.\n",
      "If we are not free, no one will respect us.\n",
      "My second vision for India is DEVELOPMENT.\n",
      "For fifty years we have been a developing nation.\n",
      "It is time we see ourselves as a developed nation.\n",
      "We are among top 5 nations of the world in terms of GDP.\n",
      "We have 10 percent growth rate in most areas.\n",
      "Our poverty levels are falling, our achievements are being globally recognized today.\n",
      "Yet we lack the self-confidence to see ourselves as a developed nation, self reliant and self assured.\n",
      "Isn't this right?\n",
      "I have a third vision.\n",
      "The India must stand up to the world.\n",
      "Because I believe that unless India stands up to the world, no one will respect us.\n",
      "Only strength respects strength.\n",
      "We must be strong not only as a military power but also as an economic power.\n",
      "Both must go hand-in-hand.\n",
      "My good fortune was to have work with three great minds.\n",
      "Dr Vikram Sarabhai of the Dept.\n",
      "of space, Professor Satish Dhawan, who succeeded him, and Dr.Brahm Prakash, father of nuclear material.\n",
      "I was lucky to have worked with all three of them closely and consider this the great opportunity of my life.\n",
      "I see four milestones in my career:\n",
      "\n",
      "ONE: Twenty years I spent in ISRO.\n",
      "I was given the opportunity to be the project director for India's first satellite launch vehicle, SLV3.\n",
      "The one that launched Rohini.\n",
      "These years played a very important role in my life of Scientist.\n",
      "TWO: After my ISRO years, I joined DRDO and got a chance to be the part of India's guided missile program.\n",
      "It was my second bliss when Agni met its mission requirements in 1994.\n",
      "THREE: The Dept.\n",
      "of Atomic Energy and DRDO had this tremendous partnership in the recent nuclear tests, on May 11 and 13.\n",
      "This was the third bliss.\n",
      "The joy of participating with my team in these nuclear tests and proving to the world that India can make it.That we are no longer a developing nation but one of them.\n",
      "It made me feel very proud as an Indian.\n",
      "The fact that we have now developed for Agni a re-entry structure, for which we have developed this new material.\n",
      "A Very light material called carbon-carbon.\n",
      "FOUR: One day an orthopaedic surgeon from Nizam institute of Medical Sciences visited my laboratory.\n",
      "He lifted the material and found it so light that he took me to his hospital and showed me his patients.\n",
      "There were these little girls and boys with heavy metallic calipers weighing over three Kgs.\n",
      "each, dragging their feet around.\n",
      "He said to me: Please remove the pain of my patients.\n",
      "In three weeks, we made these Floor reaction Orthosis 300 gram calipers and took them to the orthopaedic center.\n",
      "The children didn't believe their eyes.\n",
      "From dragging around a three kg.\n",
      "load on their legs, they could now move around!\n",
      "Their parents had tears in their eyes.\n",
      "That was my forth bliss!\n",
      "Why is the media here so negative?\n",
      "Why are we in India so embarrassed to recognize our own strengths, our achievements?\n",
      "We are such a great nation.\n",
      "We have so many amazing success stories but we refuse to acknowledge them.\n",
      "Why?\n",
      "We are the second largest producer of wheat in the world.\n",
      "We are the second largest producers in rice.\n",
      "We are the first in milk production.\n",
      "We are number one in Remote sensing satellites.\n",
      "Look at Dr. Sudarshan, he has transferred the tribal village into a self-sustaining, self-driving unit.\n",
      "There are millions of such achievements but our media is only obsessed with the bad news and failures and disasters.\n",
      "I was in Tel Aviv once and I was reading the Israeli newspaper.\n",
      "It was the day after a lot of attacks and bombardments and deaths had taken place.\n",
      "The Hamas had struck.\n",
      "But the front page of the newspaper had the picture of a Jewish gentleman who in five years had transformed his desert land into an orchid and a granary.\n",
      "It was this inspiring picture that everyone woke up to.\n",
      "The gory details of killings, bombardments, deaths, were inside in the newspaper, buried among other news.\n",
      "In India we only read about death, sickness, terrorism, crime.\n",
      "Why are we so negative?\n",
      "Another question: Why are we, as a nation so obsessed with foreign things?\n",
      "we want foreign TVs, we want foreign shirts.\n",
      "We want foreign technology.\n",
      "Why this obsession with everything imported?\n",
      "Do we not realize that self-respect comes with self-reliance?\n",
      "I was in Hyderabad giving this lecture, when a 14 year oldgirl asked me for my autograph.\n",
      "I asked her what her goal in life is: She replied: \"I want to live in a developed India.\"\n",
      "For her, you, and I will have to build this developed India.\n"
     ]
    }
   ],
   "source": [
    "for i in sentences:\n",
    "    print(i)"
   ]
  },
  {
   "cell_type": "code",
   "execution_count": 8,
   "metadata": {},
   "outputs": [
    {
     "name": "stdout",
     "output_type": "stream",
     "text": [
      "In\n",
      "3000\n",
      "years\n",
      "of\n",
      "our\n",
      "history\n",
      ",\n",
      "people\n",
      "from\n",
      "allover\n",
      "the\n",
      "world\n",
      "have\n",
      "come\n",
      "and\n",
      "invaded\n",
      "us\n",
      ",\n",
      "captured\n",
      "our\n",
      "lands\n",
      ",\n",
      "conquered\n",
      "our\n",
      "minds\n",
      ".\n"
     ]
    }
   ],
   "source": [
    "from nltk.tokenize import word_tokenize\n",
    "sentence = '''In 3000 years of our history, people from allover the world have come and invaded us, captured our lands, conquered our minds.'''\n",
    "words = word_tokenize(sentence)\n",
    "for word in words:\n",
    "    print(word)"
   ]
  }
 ],
 "metadata": {
  "kernelspec": {
   "display_name": "Python 3.7.0b5 64-bit",
   "language": "python",
   "name": "python3"
  },
  "language_info": {
   "codemirror_mode": {
    "name": "ipython",
    "version": 3
   },
   "file_extension": ".py",
   "mimetype": "text/x-python",
   "name": "python",
   "nbconvert_exporter": "python",
   "pygments_lexer": "ipython3",
   "version": "3.7.0b5"
  },
  "orig_nbformat": 4,
  "vscode": {
   "interpreter": {
    "hash": "e4854a2302e8e0b1943a175ed6c889b428e6d2f1583f81bb429a77342fbb6795"
   }
  }
 },
 "nbformat": 4,
 "nbformat_minor": 2
}
